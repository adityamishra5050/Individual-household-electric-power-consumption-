{
  "cells": [
    {
      "cell_type": "markdown",
      "metadata": {
        "id": "view-in-github",
        "colab_type": "text"
      },
      "source": [
        "<a href=\"https://colab.research.google.com/github/adityamishra5050/Individual-household-electric-power-consumption-/blob/main/DL_Assignment_2_Questio2_final.ipynb\" target=\"_parent\"><img src=\"https://colab.research.google.com/assets/colab-badge.svg\" alt=\"Open In Colab\"/></a>"
      ]
    },
    {
      "cell_type": "code",
      "execution_count": null,
      "metadata": {
        "colab": {
          "base_uri": "https://localhost:8080/",
          "height": 88
        },
        "id": "-dcxxnBl52qI",
        "outputId": "c66669ac-12da-4a6b-ba26-909b3d0bfdb3"
      },
      "outputs": [
        {
          "output_type": "execute_result",
          "data": {
            "text/plain": [
              "' Question 2) The dataset you have been given is Individual household electric power consumption\\n    dataset. [35]\\n(i)Split the dataset into train and test (80:20) and do the basic preprocessing. [10]\\n(ii) Use LSTM to predict the global active power while keeping all other important\\nfeatures and predict it for the testing days by training the model and plot the real global active\\npower and predicted global active power for the testing days and comparing the results. [15]\\n(iii) Now split the dataset in train and test (70:30) and predict the global active power for\\nthe testing days and compare the results with part (ii).'"
            ],
            "application/vnd.google.colaboratory.intrinsic+json": {
              "type": "string"
            }
          },
          "metadata": {},
          "execution_count": 1
        }
      ],
      "source": [
        "''' Question 2) The dataset you have been given is Individual household electric power consumption\n",
        "    dataset. [35]\n",
        "(i)Split the dataset into train and test (80:20) and do the basic preprocessing. [10]\n",
        "(ii) Use LSTM to predict the global active power while keeping all other important\n",
        "features and predict it for the testing days by training the model and plot the real global active\n",
        "power and predicted global active power for the testing days and comparing the results. [15]\n",
        "(iii) Now split the dataset in train and test (70:30) and predict the global active power for\n",
        "the testing days and compare the results with part (ii).'''"
      ]
    },
    {
      "cell_type": "code",
      "execution_count": null,
      "metadata": {
        "colab": {
          "base_uri": "https://localhost:8080/"
        },
        "id": "9vyzagNP5hwl",
        "outputId": "600f5022-bcb7-426f-8b77-b8657cba19f0"
      },
      "outputs": [
        {
          "output_type": "stream",
          "name": "stdout",
          "text": [
            "Drive already mounted at /content/drive; to attempt to forcibly remount, call drive.mount(\"/content/drive\", force_remount=True).\n"
          ]
        }
      ],
      "source": [
        "# In This part of the code we are just mounting our drive to the google colab for accessing our dataset easyly so that we don't have to\n",
        "# download it again and again.\n",
        "\n",
        "# for this part we are just importing a keyword drive from the library google.colab\n",
        "from google.colab import drive\n",
        "# and the fallowing code is for mounting our drive with this google colab editor.\n",
        "drive.mount('/content/drive')"
      ]
    },
    {
      "cell_type": "code",
      "execution_count": null,
      "metadata": {
        "id": "7vVSbh_S7Drl"
      },
      "outputs": [],
      "source": [
        "# The path for accessing for given data set is given as\n",
        "# for dataset , the path is as fallowing \"/content/drive/MyDrive/household_power_consumption.txt\""
      ]
    },
    {
      "cell_type": "code",
      "execution_count": null,
      "metadata": {
        "id": "eUIAazz67pf9"
      },
      "outputs": [],
      "source": [
        "# now we are importing some libraries such as pandas for readind my dataset\n",
        "import pandas as pd\n",
        "import numpy as np"
      ]
    },
    {
      "cell_type": "code",
      "execution_count": null,
      "metadata": {
        "id": "qkq0wVfA8jF0"
      },
      "outputs": [],
      "source": [
        "# with the help of pandas library we are reading the dataset by the path which is defined above and using the separation by \";\" and na values are removed and date\n",
        "# and time are saperated with the help of the arguements passed by the pd.read_csv function.\n",
        "whole_data_set = pd.read_csv(\"/content/drive/MyDrive/household_power_consumption.txt\",sep = \";\" ,na_values = [\"nan\",\"?\"],parse_dates = {\"dt\" : [\"Date\",\"Time\"]},infer_datetime_format = True,index_col = \"dt\")"
      ]
    },
    {
      "cell_type": "code",
      "execution_count": null,
      "metadata": {
        "colab": {
          "base_uri": "https://localhost:8080/",
          "height": 237
        },
        "id": "JUT63gfq_WPQ",
        "outputId": "8c36c951-ea4d-4ec0-e2c9-31e8d516458e"
      },
      "outputs": [
        {
          "output_type": "execute_result",
          "data": {
            "text/plain": [
              "                     Global_active_power  Global_reactive_power  Voltage  \\\n",
              "dt                                                                         \n",
              "2006-12-16 17:24:00                4.216                  0.418   234.84   \n",
              "2006-12-16 17:25:00                5.360                  0.436   233.63   \n",
              "2006-12-16 17:26:00                5.374                  0.498   233.29   \n",
              "2006-12-16 17:27:00                5.388                  0.502   233.74   \n",
              "2006-12-16 17:28:00                3.666                  0.528   235.68   \n",
              "\n",
              "                     Global_intensity  Sub_metering_1  Sub_metering_2  \\\n",
              "dt                                                                      \n",
              "2006-12-16 17:24:00              18.4             0.0             1.0   \n",
              "2006-12-16 17:25:00              23.0             0.0             1.0   \n",
              "2006-12-16 17:26:00              23.0             0.0             2.0   \n",
              "2006-12-16 17:27:00              23.0             0.0             1.0   \n",
              "2006-12-16 17:28:00              15.8             0.0             1.0   \n",
              "\n",
              "                     Sub_metering_3  \n",
              "dt                                   \n",
              "2006-12-16 17:24:00            17.0  \n",
              "2006-12-16 17:25:00            16.0  \n",
              "2006-12-16 17:26:00            17.0  \n",
              "2006-12-16 17:27:00            17.0  \n",
              "2006-12-16 17:28:00            17.0  "
            ],
            "text/html": [
              "\n",
              "  <div id=\"df-330774c2-dc5d-4a50-bab2-c86fb881684c\">\n",
              "    <div class=\"colab-df-container\">\n",
              "      <div>\n",
              "<style scoped>\n",
              "    .dataframe tbody tr th:only-of-type {\n",
              "        vertical-align: middle;\n",
              "    }\n",
              "\n",
              "    .dataframe tbody tr th {\n",
              "        vertical-align: top;\n",
              "    }\n",
              "\n",
              "    .dataframe thead th {\n",
              "        text-align: right;\n",
              "    }\n",
              "</style>\n",
              "<table border=\"1\" class=\"dataframe\">\n",
              "  <thead>\n",
              "    <tr style=\"text-align: right;\">\n",
              "      <th></th>\n",
              "      <th>Global_active_power</th>\n",
              "      <th>Global_reactive_power</th>\n",
              "      <th>Voltage</th>\n",
              "      <th>Global_intensity</th>\n",
              "      <th>Sub_metering_1</th>\n",
              "      <th>Sub_metering_2</th>\n",
              "      <th>Sub_metering_3</th>\n",
              "    </tr>\n",
              "    <tr>\n",
              "      <th>dt</th>\n",
              "      <th></th>\n",
              "      <th></th>\n",
              "      <th></th>\n",
              "      <th></th>\n",
              "      <th></th>\n",
              "      <th></th>\n",
              "      <th></th>\n",
              "    </tr>\n",
              "  </thead>\n",
              "  <tbody>\n",
              "    <tr>\n",
              "      <th>2006-12-16 17:24:00</th>\n",
              "      <td>4.216</td>\n",
              "      <td>0.418</td>\n",
              "      <td>234.84</td>\n",
              "      <td>18.4</td>\n",
              "      <td>0.0</td>\n",
              "      <td>1.0</td>\n",
              "      <td>17.0</td>\n",
              "    </tr>\n",
              "    <tr>\n",
              "      <th>2006-12-16 17:25:00</th>\n",
              "      <td>5.360</td>\n",
              "      <td>0.436</td>\n",
              "      <td>233.63</td>\n",
              "      <td>23.0</td>\n",
              "      <td>0.0</td>\n",
              "      <td>1.0</td>\n",
              "      <td>16.0</td>\n",
              "    </tr>\n",
              "    <tr>\n",
              "      <th>2006-12-16 17:26:00</th>\n",
              "      <td>5.374</td>\n",
              "      <td>0.498</td>\n",
              "      <td>233.29</td>\n",
              "      <td>23.0</td>\n",
              "      <td>0.0</td>\n",
              "      <td>2.0</td>\n",
              "      <td>17.0</td>\n",
              "    </tr>\n",
              "    <tr>\n",
              "      <th>2006-12-16 17:27:00</th>\n",
              "      <td>5.388</td>\n",
              "      <td>0.502</td>\n",
              "      <td>233.74</td>\n",
              "      <td>23.0</td>\n",
              "      <td>0.0</td>\n",
              "      <td>1.0</td>\n",
              "      <td>17.0</td>\n",
              "    </tr>\n",
              "    <tr>\n",
              "      <th>2006-12-16 17:28:00</th>\n",
              "      <td>3.666</td>\n",
              "      <td>0.528</td>\n",
              "      <td>235.68</td>\n",
              "      <td>15.8</td>\n",
              "      <td>0.0</td>\n",
              "      <td>1.0</td>\n",
              "      <td>17.0</td>\n",
              "    </tr>\n",
              "  </tbody>\n",
              "</table>\n",
              "</div>\n",
              "      <button class=\"colab-df-convert\" onclick=\"convertToInteractive('df-330774c2-dc5d-4a50-bab2-c86fb881684c')\"\n",
              "              title=\"Convert this dataframe to an interactive table.\"\n",
              "              style=\"display:none;\">\n",
              "        \n",
              "  <svg xmlns=\"http://www.w3.org/2000/svg\" height=\"24px\"viewBox=\"0 0 24 24\"\n",
              "       width=\"24px\">\n",
              "    <path d=\"M0 0h24v24H0V0z\" fill=\"none\"/>\n",
              "    <path d=\"M18.56 5.44l.94 2.06.94-2.06 2.06-.94-2.06-.94-.94-2.06-.94 2.06-2.06.94zm-11 1L8.5 8.5l.94-2.06 2.06-.94-2.06-.94L8.5 2.5l-.94 2.06-2.06.94zm10 10l.94 2.06.94-2.06 2.06-.94-2.06-.94-.94-2.06-.94 2.06-2.06.94z\"/><path d=\"M17.41 7.96l-1.37-1.37c-.4-.4-.92-.59-1.43-.59-.52 0-1.04.2-1.43.59L10.3 9.45l-7.72 7.72c-.78.78-.78 2.05 0 2.83L4 21.41c.39.39.9.59 1.41.59.51 0 1.02-.2 1.41-.59l7.78-7.78 2.81-2.81c.8-.78.8-2.07 0-2.86zM5.41 20L4 18.59l7.72-7.72 1.47 1.35L5.41 20z\"/>\n",
              "  </svg>\n",
              "      </button>\n",
              "      \n",
              "  <style>\n",
              "    .colab-df-container {\n",
              "      display:flex;\n",
              "      flex-wrap:wrap;\n",
              "      gap: 12px;\n",
              "    }\n",
              "\n",
              "    .colab-df-convert {\n",
              "      background-color: #E8F0FE;\n",
              "      border: none;\n",
              "      border-radius: 50%;\n",
              "      cursor: pointer;\n",
              "      display: none;\n",
              "      fill: #1967D2;\n",
              "      height: 32px;\n",
              "      padding: 0 0 0 0;\n",
              "      width: 32px;\n",
              "    }\n",
              "\n",
              "    .colab-df-convert:hover {\n",
              "      background-color: #E2EBFA;\n",
              "      box-shadow: 0px 1px 2px rgba(60, 64, 67, 0.3), 0px 1px 3px 1px rgba(60, 64, 67, 0.15);\n",
              "      fill: #174EA6;\n",
              "    }\n",
              "\n",
              "    [theme=dark] .colab-df-convert {\n",
              "      background-color: #3B4455;\n",
              "      fill: #D2E3FC;\n",
              "    }\n",
              "\n",
              "    [theme=dark] .colab-df-convert:hover {\n",
              "      background-color: #434B5C;\n",
              "      box-shadow: 0px 1px 3px 1px rgba(0, 0, 0, 0.15);\n",
              "      filter: drop-shadow(0px 1px 2px rgba(0, 0, 0, 0.3));\n",
              "      fill: #FFFFFF;\n",
              "    }\n",
              "  </style>\n",
              "\n",
              "      <script>\n",
              "        const buttonEl =\n",
              "          document.querySelector('#df-330774c2-dc5d-4a50-bab2-c86fb881684c button.colab-df-convert');\n",
              "        buttonEl.style.display =\n",
              "          google.colab.kernel.accessAllowed ? 'block' : 'none';\n",
              "\n",
              "        async function convertToInteractive(key) {\n",
              "          const element = document.querySelector('#df-330774c2-dc5d-4a50-bab2-c86fb881684c');\n",
              "          const dataTable =\n",
              "            await google.colab.kernel.invokeFunction('convertToInteractive',\n",
              "                                                     [key], {});\n",
              "          if (!dataTable) return;\n",
              "\n",
              "          const docLinkHtml = 'Like what you see? Visit the ' +\n",
              "            '<a target=\"_blank\" href=https://colab.research.google.com/notebooks/data_table.ipynb>data table notebook</a>'\n",
              "            + ' to learn more about interactive tables.';\n",
              "          element.innerHTML = '';\n",
              "          dataTable['output_type'] = 'display_data';\n",
              "          await google.colab.output.renderOutput(dataTable, element);\n",
              "          const docLink = document.createElement('div');\n",
              "          docLink.innerHTML = docLinkHtml;\n",
              "          element.appendChild(docLink);\n",
              "        }\n",
              "      </script>\n",
              "    </div>\n",
              "  </div>\n",
              "  "
            ]
          },
          "metadata": {},
          "execution_count": 6
        }
      ],
      "source": [
        "# now only for the curocity we are seeing our dataset just for the varification that it is imported as in the same format as we wanted\n",
        "# now for seeing our dataset we are using some function without passing any argument , the code for that is given below.\n",
        "whole_data_set.head()"
      ]
    },
    {
      "cell_type": "code",
      "execution_count": null,
      "metadata": {
        "colab": {
          "base_uri": "https://localhost:8080/"
        },
        "id": "OYnf41lIBApW",
        "outputId": "fbc90dfc-fd3e-4917-8a59-313dc6830472"
      },
      "outputs": [
        {
          "output_type": "execute_result",
          "data": {
            "text/plain": [
              "(2075259, 7)"
            ]
          },
          "metadata": {},
          "execution_count": 7
        }
      ],
      "source": [
        "# To know the shape of our dataset we are applying a function , for just knowing the Preprocessing task\n",
        "whole_data_set.shape"
      ]
    },
    {
      "cell_type": "markdown",
      "metadata": {
        "id": "ogwpCWOQAZnm"
      },
      "source": [
        "# *** (i) Split the dataset into train (80%) and test(20%) and do the basic preprocessing. ***"
      ]
    },
    {
      "cell_type": "code",
      "execution_count": null,
      "metadata": {
        "id": "a4KFUMAqCn4E"
      },
      "outputs": [],
      "source": [
        "# since our dataqset has some missing values so we are replcing these missing values with the mean value of that column where that missing value\n",
        "# is lying , otherwise we can't use our dataset for the further processing\n",
        "whole_data_set = whole_data_set.fillna(whole_data_set.mean())"
      ]
    },
    {
      "cell_type": "code",
      "execution_count": null,
      "metadata": {
        "id": "zwZVaaYJERey"
      },
      "outputs": [],
      "source": [
        "# Quoting the words from documentation, resample is a “Convenient method for frequency conversion and resampling of time series.”\n",
        "# In practice, there are 2 main reasons why using resample.\n",
        "# To inspect how data behaves differently under different resolutions or frequency\n",
        "\n",
        "# the most basic resampling is done by the hours\n",
        "whole_data_set=whole_data_set.resample('h').mean()"
      ]
    },
    {
      "cell_type": "code",
      "execution_count": null,
      "metadata": {
        "colab": {
          "base_uri": "https://localhost:8080/",
          "height": 237
        },
        "id": "C8FSQZ2mE46m",
        "outputId": "8da2efaa-a1ff-427c-f7c7-a1e87147f9d8"
      },
      "outputs": [
        {
          "output_type": "execute_result",
          "data": {
            "text/plain": [
              "                     Global_active_power  Global_reactive_power     Voltage  \\\n",
              "dt                                                                            \n",
              "2006-12-16 17:00:00             4.222889               0.229000  234.643889   \n",
              "2006-12-16 18:00:00             3.632200               0.080033  234.580167   \n",
              "2006-12-16 19:00:00             3.400233               0.085233  233.232500   \n",
              "2006-12-16 20:00:00             3.268567               0.075100  234.071500   \n",
              "2006-12-16 21:00:00             3.056467               0.076667  237.158667   \n",
              "\n",
              "                     Global_intensity  Sub_metering_1  Sub_metering_2  \\\n",
              "dt                                                                      \n",
              "2006-12-16 17:00:00         18.100000             0.0        0.527778   \n",
              "2006-12-16 18:00:00         15.600000             0.0        6.716667   \n",
              "2006-12-16 19:00:00         14.503333             0.0        1.433333   \n",
              "2006-12-16 20:00:00         13.916667             0.0        0.000000   \n",
              "2006-12-16 21:00:00         13.046667             0.0        0.416667   \n",
              "\n",
              "                     Sub_metering_3  \n",
              "dt                                   \n",
              "2006-12-16 17:00:00       16.861111  \n",
              "2006-12-16 18:00:00       16.866667  \n",
              "2006-12-16 19:00:00       16.683333  \n",
              "2006-12-16 20:00:00       16.783333  \n",
              "2006-12-16 21:00:00       17.216667  "
            ],
            "text/html": [
              "\n",
              "  <div id=\"df-51fc87cc-30fc-42b6-b7fc-3e648747926f\">\n",
              "    <div class=\"colab-df-container\">\n",
              "      <div>\n",
              "<style scoped>\n",
              "    .dataframe tbody tr th:only-of-type {\n",
              "        vertical-align: middle;\n",
              "    }\n",
              "\n",
              "    .dataframe tbody tr th {\n",
              "        vertical-align: top;\n",
              "    }\n",
              "\n",
              "    .dataframe thead th {\n",
              "        text-align: right;\n",
              "    }\n",
              "</style>\n",
              "<table border=\"1\" class=\"dataframe\">\n",
              "  <thead>\n",
              "    <tr style=\"text-align: right;\">\n",
              "      <th></th>\n",
              "      <th>Global_active_power</th>\n",
              "      <th>Global_reactive_power</th>\n",
              "      <th>Voltage</th>\n",
              "      <th>Global_intensity</th>\n",
              "      <th>Sub_metering_1</th>\n",
              "      <th>Sub_metering_2</th>\n",
              "      <th>Sub_metering_3</th>\n",
              "    </tr>\n",
              "    <tr>\n",
              "      <th>dt</th>\n",
              "      <th></th>\n",
              "      <th></th>\n",
              "      <th></th>\n",
              "      <th></th>\n",
              "      <th></th>\n",
              "      <th></th>\n",
              "      <th></th>\n",
              "    </tr>\n",
              "  </thead>\n",
              "  <tbody>\n",
              "    <tr>\n",
              "      <th>2006-12-16 17:00:00</th>\n",
              "      <td>4.222889</td>\n",
              "      <td>0.229000</td>\n",
              "      <td>234.643889</td>\n",
              "      <td>18.100000</td>\n",
              "      <td>0.0</td>\n",
              "      <td>0.527778</td>\n",
              "      <td>16.861111</td>\n",
              "    </tr>\n",
              "    <tr>\n",
              "      <th>2006-12-16 18:00:00</th>\n",
              "      <td>3.632200</td>\n",
              "      <td>0.080033</td>\n",
              "      <td>234.580167</td>\n",
              "      <td>15.600000</td>\n",
              "      <td>0.0</td>\n",
              "      <td>6.716667</td>\n",
              "      <td>16.866667</td>\n",
              "    </tr>\n",
              "    <tr>\n",
              "      <th>2006-12-16 19:00:00</th>\n",
              "      <td>3.400233</td>\n",
              "      <td>0.085233</td>\n",
              "      <td>233.232500</td>\n",
              "      <td>14.503333</td>\n",
              "      <td>0.0</td>\n",
              "      <td>1.433333</td>\n",
              "      <td>16.683333</td>\n",
              "    </tr>\n",
              "    <tr>\n",
              "      <th>2006-12-16 20:00:00</th>\n",
              "      <td>3.268567</td>\n",
              "      <td>0.075100</td>\n",
              "      <td>234.071500</td>\n",
              "      <td>13.916667</td>\n",
              "      <td>0.0</td>\n",
              "      <td>0.000000</td>\n",
              "      <td>16.783333</td>\n",
              "    </tr>\n",
              "    <tr>\n",
              "      <th>2006-12-16 21:00:00</th>\n",
              "      <td>3.056467</td>\n",
              "      <td>0.076667</td>\n",
              "      <td>237.158667</td>\n",
              "      <td>13.046667</td>\n",
              "      <td>0.0</td>\n",
              "      <td>0.416667</td>\n",
              "      <td>17.216667</td>\n",
              "    </tr>\n",
              "  </tbody>\n",
              "</table>\n",
              "</div>\n",
              "      <button class=\"colab-df-convert\" onclick=\"convertToInteractive('df-51fc87cc-30fc-42b6-b7fc-3e648747926f')\"\n",
              "              title=\"Convert this dataframe to an interactive table.\"\n",
              "              style=\"display:none;\">\n",
              "        \n",
              "  <svg xmlns=\"http://www.w3.org/2000/svg\" height=\"24px\"viewBox=\"0 0 24 24\"\n",
              "       width=\"24px\">\n",
              "    <path d=\"M0 0h24v24H0V0z\" fill=\"none\"/>\n",
              "    <path d=\"M18.56 5.44l.94 2.06.94-2.06 2.06-.94-2.06-.94-.94-2.06-.94 2.06-2.06.94zm-11 1L8.5 8.5l.94-2.06 2.06-.94-2.06-.94L8.5 2.5l-.94 2.06-2.06.94zm10 10l.94 2.06.94-2.06 2.06-.94-2.06-.94-.94-2.06-.94 2.06-2.06.94z\"/><path d=\"M17.41 7.96l-1.37-1.37c-.4-.4-.92-.59-1.43-.59-.52 0-1.04.2-1.43.59L10.3 9.45l-7.72 7.72c-.78.78-.78 2.05 0 2.83L4 21.41c.39.39.9.59 1.41.59.51 0 1.02-.2 1.41-.59l7.78-7.78 2.81-2.81c.8-.78.8-2.07 0-2.86zM5.41 20L4 18.59l7.72-7.72 1.47 1.35L5.41 20z\"/>\n",
              "  </svg>\n",
              "      </button>\n",
              "      \n",
              "  <style>\n",
              "    .colab-df-container {\n",
              "      display:flex;\n",
              "      flex-wrap:wrap;\n",
              "      gap: 12px;\n",
              "    }\n",
              "\n",
              "    .colab-df-convert {\n",
              "      background-color: #E8F0FE;\n",
              "      border: none;\n",
              "      border-radius: 50%;\n",
              "      cursor: pointer;\n",
              "      display: none;\n",
              "      fill: #1967D2;\n",
              "      height: 32px;\n",
              "      padding: 0 0 0 0;\n",
              "      width: 32px;\n",
              "    }\n",
              "\n",
              "    .colab-df-convert:hover {\n",
              "      background-color: #E2EBFA;\n",
              "      box-shadow: 0px 1px 2px rgba(60, 64, 67, 0.3), 0px 1px 3px 1px rgba(60, 64, 67, 0.15);\n",
              "      fill: #174EA6;\n",
              "    }\n",
              "\n",
              "    [theme=dark] .colab-df-convert {\n",
              "      background-color: #3B4455;\n",
              "      fill: #D2E3FC;\n",
              "    }\n",
              "\n",
              "    [theme=dark] .colab-df-convert:hover {\n",
              "      background-color: #434B5C;\n",
              "      box-shadow: 0px 1px 3px 1px rgba(0, 0, 0, 0.15);\n",
              "      filter: drop-shadow(0px 1px 2px rgba(0, 0, 0, 0.3));\n",
              "      fill: #FFFFFF;\n",
              "    }\n",
              "  </style>\n",
              "\n",
              "      <script>\n",
              "        const buttonEl =\n",
              "          document.querySelector('#df-51fc87cc-30fc-42b6-b7fc-3e648747926f button.colab-df-convert');\n",
              "        buttonEl.style.display =\n",
              "          google.colab.kernel.accessAllowed ? 'block' : 'none';\n",
              "\n",
              "        async function convertToInteractive(key) {\n",
              "          const element = document.querySelector('#df-51fc87cc-30fc-42b6-b7fc-3e648747926f');\n",
              "          const dataTable =\n",
              "            await google.colab.kernel.invokeFunction('convertToInteractive',\n",
              "                                                     [key], {});\n",
              "          if (!dataTable) return;\n",
              "\n",
              "          const docLinkHtml = 'Like what you see? Visit the ' +\n",
              "            '<a target=\"_blank\" href=https://colab.research.google.com/notebooks/data_table.ipynb>data table notebook</a>'\n",
              "            + ' to learn more about interactive tables.';\n",
              "          element.innerHTML = '';\n",
              "          dataTable['output_type'] = 'display_data';\n",
              "          await google.colab.output.renderOutput(dataTable, element);\n",
              "          const docLink = document.createElement('div');\n",
              "          docLink.innerHTML = docLinkHtml;\n",
              "          element.appendChild(docLink);\n",
              "        }\n",
              "      </script>\n",
              "    </div>\n",
              "  </div>\n",
              "  "
            ]
          },
          "metadata": {},
          "execution_count": 10
        }
      ],
      "source": [
        "# now we just see the new resampled dataset just for the futher varification\n",
        "whole_data_set.head()"
      ]
    },
    {
      "cell_type": "code",
      "execution_count": null,
      "metadata": {
        "colab": {
          "base_uri": "https://localhost:8080/"
        },
        "id": "6fDgc2lSU5S9",
        "outputId": "1024877f-073d-444a-c52e-e4093e63cfac"
      },
      "outputs": [
        {
          "output_type": "execute_result",
          "data": {
            "text/plain": [
              "(34589, 7)"
            ]
          },
          "metadata": {},
          "execution_count": 11
        }
      ],
      "source": [
        "# Just for the further varification we just finding out the shape of our dataset\n",
        "whole_data_set.shape"
      ]
    },
    {
      "cell_type": "code",
      "execution_count": null,
      "metadata": {
        "id": "yx0dPiLRFcal"
      },
      "outputs": [],
      "source": [
        "# What is Data Scaling and Normalization\n",
        "# When changing the scale of characteristics in a dataset, the words \"data scaling\" and \"normalisation\" are frequently employed.\n",
        "# Data normalisation, upscaling, and downscaling are all referred to as \"scaling,\" which is a more general phrase. On the other hand,\n",
        "# data normalisation is the process of scaling data values so that the new values fall within a predetermined range, often -1 to 1 or 0 to 1.\n",
        "# Normalization is simply one sort of scaling, just as a square is just one type of rectangle,\n",
        "# yet some people mistakenly use the word scaling to refer to both types of normalisation.\n",
        "\n",
        "from sklearn.preprocessing import MinMaxScaler,StandardScaler\n",
        "\n",
        "spreading_dataset = MinMaxScaler(feature_range=(0, 1))\n",
        "spreaded_dataset = spreading_dataset.fit_transform(whole_data_set)\n",
        "whole_data_set_scaled =pd.DataFrame(spreaded_dataset)"
      ]
    },
    {
      "cell_type": "code",
      "execution_count": null,
      "metadata": {
        "id": "-QI27gsAM_bx"
      },
      "outputs": [],
      "source": [
        "# just before applying the LSTM we have to shift our dataset by -1 datapoint\n",
        "# the reason behind this activity is that we ghave to apply LSTM hidden state\n",
        "whole_data_set[\"target\"] = whole_data_set.Global_active_power.shift(-1)\n",
        "whole_data_set = whole_data_set.iloc[:-1,:]"
      ]
    },
    {
      "cell_type": "code",
      "execution_count": null,
      "metadata": {
        "id": "OAjA0MQuAZJN"
      },
      "outputs": [],
      "source": [
        "# Since our data set shape is (2075259, 7), so the data entries are total 2075259 , hence we want to split the data set  into the training (80%) and validation and testing (20%) set\n",
        "# so we are using the splitting function from the respective libraries\n",
        "# traing part after 80% will get the total of 1660207\n",
        "# and the rest will be about total 415052\n",
        "\n",
        "whole_data_set_numeric = whole_data_set.values\n",
        "numberof_whole_data_set_train = 27670\n",
        "\n",
        "# splitting the data set according to the given conditions in the question\n",
        "# this fallowing line is for the training dataset\n",
        "whole_data_set_train = whole_data_set_numeric[:numberof_whole_data_set_train, :]\n",
        "# this fallowing line is for the testing dataset\n",
        "whole_data_set_test = whole_data_set_numeric[numberof_whole_data_set_train:, :]\n",
        "\n",
        "\n",
        "# now extracting the features and the target values for the supervised learning  technique for the trainig dataset\n",
        "X_whole_data_set_train, y_whole_data_set_train = whole_data_set_train[:,1:], whole_data_set_train[:,0]\n",
        "# now extracting the features and the target values for the supervised learning  technique for the testing dataset\n",
        "X_whole_data_set_test, y_whole_data_set_test = whole_data_set_test[:,1:],whole_data_set_test[:,0]\n",
        "\n",
        "X_whole_data_set_train = X_whole_data_set_train.reshape((X_whole_data_set_train.shape[0], 1, X_whole_data_set_train.shape[1]))\n",
        "X_whole_data_set_test = X_whole_data_set_test.reshape((X_whole_data_set_test.shape[0], 1, X_whole_data_set_test.shape[1]))"
      ]
    },
    {
      "cell_type": "code",
      "execution_count": null,
      "metadata": {
        "colab": {
          "base_uri": "https://localhost:8080/"
        },
        "id": "mfcqAvyTTIBc",
        "outputId": "8e857f2f-1e1b-4506-ebfe-5c581038322f"
      },
      "outputs": [
        {
          "output_type": "stream",
          "name": "stdout",
          "text": [
            "(27670, 1, 7) (27670,) (6918, 1, 7) (6918,)\n"
          ]
        }
      ],
      "source": [
        "# just for the varification that the splitt is done properly , we are pring the shape of the above work\n",
        "print(X_whole_data_set_train.shape,y_whole_data_set_train.shape,X_whole_data_set_test.shape,y_whole_data_set_test.shape)\n"
      ]
    },
    {
      "cell_type": "code",
      "execution_count": null,
      "metadata": {
        "id": "_dwaD8r0aB1i"
      },
      "outputs": [],
      "source": [
        "# now for the Pytorch work we are importing the torch\n",
        "import torch"
      ]
    },
    {
      "cell_type": "code",
      "execution_count": null,
      "metadata": {
        "id": "GubXc3dlZwcW"
      },
      "outputs": [],
      "source": [
        "# now we making our whole training feature dataset into the tensor for the further processing\n",
        "X_whole_data_set_train = torch.FloatTensor(X_whole_data_set_train)"
      ]
    },
    {
      "cell_type": "code",
      "execution_count": null,
      "metadata": {
        "id": "EmSAk0V9aTD1"
      },
      "outputs": [],
      "source": [
        "# now we making our whole training target dataset into the tensor for the further processing\n",
        "y_whole_data_set_train = torch.FloatTensor(y_whole_data_set_train)\n"
      ]
    },
    {
      "cell_type": "code",
      "execution_count": null,
      "metadata": {
        "colab": {
          "base_uri": "https://localhost:8080/"
        },
        "id": "NySmgpYgYgrG",
        "outputId": "7c277cdc-c40b-4b67-c097-acde1ba16440"
      },
      "outputs": [
        {
          "output_type": "stream",
          "name": "stdout",
          "text": [
            "tensor([[[2.2900e-01, 2.3464e+02, 1.8100e+01, 0.0000e+00, 5.2778e-01,\n",
            "          1.6861e+01, 3.6322e+00]],\n",
            "\n",
            "        [[8.0033e-02, 2.3458e+02, 1.5600e+01, 0.0000e+00, 6.7167e+00,\n",
            "          1.6867e+01, 3.4002e+00]],\n",
            "\n",
            "        [[8.5233e-02, 2.3323e+02, 1.4503e+01, 0.0000e+00, 1.4333e+00,\n",
            "          1.6683e+01, 3.2686e+00]],\n",
            "\n",
            "        [[7.5100e-02, 2.3407e+02, 1.3917e+01, 0.0000e+00, 0.0000e+00,\n",
            "          1.6783e+01, 3.0565e+00]],\n",
            "\n",
            "        [[7.6667e-02, 2.3716e+02, 1.3047e+01, 0.0000e+00, 4.1667e-01,\n",
            "          1.7217e+01, 2.2001e+00]]])\n"
          ]
        }
      ],
      "source": [
        "# just for the sake of the varification we are seeing this tensor values , top five values\n",
        "print(X_whole_data_set_train[:5])"
      ]
    },
    {
      "cell_type": "code",
      "execution_count": null,
      "metadata": {
        "id": "zZ732KbVYwXm"
      },
      "outputs": [],
      "source": [
        "# for the sequence making we are creating a variable that denote how much sequence do you want\n",
        "How_much_seq_want = 1"
      ]
    },
    {
      "cell_type": "code",
      "execution_count": null,
      "metadata": {
        "id": "yTZCVjNyY8nt"
      },
      "outputs": [],
      "source": [
        "# for just makig the sequences we are defing a function that is making_seq_of_my_dataset\n",
        "def making_seq_of_my_dataset(To_be_seq_dataset, hmsw):\n",
        "    my_sequence_will_be = []\n",
        "    Length_of_the_dataset = len(To_be_seq_dataset)\n",
        "    for i in range(Length_of_the_dataset-hmsw):\n",
        "        converted_training_sequence = To_be_seq_dataset[i:i+hmsw]\n",
        "        converted_training_target = To_be_seq_dataset[i+hmsw:i+hmsw+1]\n",
        "        my_sequence_will_be.append((converted_training_sequence ,converted_training_target))\n",
        "    return my_sequence_will_be"
      ]
    },
    {
      "cell_type": "code",
      "execution_count": null,
      "metadata": {
        "id": "5kVAALmuZAgJ"
      },
      "outputs": [],
      "source": [
        "# converteing my dataset into the sequences\n",
        "my_training_sequence_is = making_seq_of_my_dataset(X_whole_data_set_train, How_much_seq_want)"
      ]
    },
    {
      "cell_type": "code",
      "execution_count": null,
      "metadata": {
        "colab": {
          "base_uri": "https://localhost:8080/"
        },
        "id": "36andvt-ZMNu",
        "outputId": "38bf1c16-155e-45e1-d936-c455e2af32db"
      },
      "outputs": [
        {
          "output_type": "execute_result",
          "data": {
            "text/plain": [
              "[(tensor([[[2.2900e-01, 2.3464e+02, 1.8100e+01, 0.0000e+00, 5.2778e-01,\n",
              "            1.6861e+01, 3.6322e+00]]]),\n",
              "  tensor([[[8.0033e-02, 2.3458e+02, 1.5600e+01, 0.0000e+00, 6.7167e+00,\n",
              "            1.6867e+01, 3.4002e+00]]])),\n",
              " (tensor([[[8.0033e-02, 2.3458e+02, 1.5600e+01, 0.0000e+00, 6.7167e+00,\n",
              "            1.6867e+01, 3.4002e+00]]]),\n",
              "  tensor([[[8.5233e-02, 2.3323e+02, 1.4503e+01, 0.0000e+00, 1.4333e+00,\n",
              "            1.6683e+01, 3.2686e+00]]])),\n",
              " (tensor([[[8.5233e-02, 2.3323e+02, 1.4503e+01, 0.0000e+00, 1.4333e+00,\n",
              "            1.6683e+01, 3.2686e+00]]]),\n",
              "  tensor([[[7.5100e-02, 2.3407e+02, 1.3917e+01, 0.0000e+00, 0.0000e+00,\n",
              "            1.6783e+01, 3.0565e+00]]])),\n",
              " (tensor([[[7.5100e-02, 2.3407e+02, 1.3917e+01, 0.0000e+00, 0.0000e+00,\n",
              "            1.6783e+01, 3.0565e+00]]]),\n",
              "  tensor([[[7.6667e-02, 2.3716e+02, 1.3047e+01, 0.0000e+00, 4.1667e-01,\n",
              "            1.7217e+01, 2.2001e+00]]])),\n",
              " (tensor([[[7.6667e-02, 2.3716e+02, 1.3047e+01, 0.0000e+00, 4.1667e-01,\n",
              "            1.7217e+01, 2.2001e+00]]]),\n",
              "  tensor([[[5.6167e-02, 2.3876e+02, 9.5233e+00, 0.0000e+00, 1.3333e-01,\n",
              "            4.4333e+00, 2.0616e+00]]]))]"
            ]
          },
          "metadata": {},
          "execution_count": 23
        }
      ],
      "source": [
        "# just for the varification we are veiwing this dataset for the top 5 values\n",
        "my_training_sequence_is[:5]"
      ]
    },
    {
      "cell_type": "markdown",
      "source": [
        "**# (ii) Use LSTM to predict the global active power while keeping all other important features and predict it for the testing days by training the model and plot the real global active power and predicted global active power for the testing days and comparing the results.**"
      ],
      "metadata": {
        "id": "5_sCqHUVDaLp"
      }
    },
    {
      "cell_type": "code",
      "execution_count": null,
      "metadata": {
        "id": "prqnuUOoNQuj"
      },
      "outputs": [],
      "source": [
        "#importing the torch nn module fot the training clas\n",
        "import torch.nn as nn"
      ]
    },
    {
      "cell_type": "code",
      "execution_count": null,
      "metadata": {
        "id": "FIwR8wCiMxOd"
      },
      "outputs": [],
      "source": [
        "class LSTM(nn.Module):\n",
        "    def __init__(self, input_size=7, hidden_layer_size=100, output_size=1):\n",
        "        super().__init__()\n",
        "        self.hidden_layer_size = hidden_layer_size # giving the hidden layer size for this class which is passed by an argument in the definition above\n",
        "\n",
        "        self.lstm = nn.LSTM(input_size, hidden_layer_size) # here we are passing the arguments to the class we have defined above\n",
        "\n",
        "        self.linear = nn.Linear(hidden_layer_size, output_size) # here we are passing these arguments to the class of the Linear Layer of the LSTM\n",
        "\n",
        "        self.hidden_cell = (torch.zeros(1,1,self.hidden_layer_size), # here we are introducing the hidden cell of the LSTM model and passing some arguments\n",
        "                            torch.zeros(1,1,self.hidden_layer_size))\n",
        "\n",
        "    def forward(self, input_seq): # here we are defining the forward function which will take all these above things together for the further proceesing\n",
        "        lstm_out, self.hidden_cell = self.lstm(input_seq.view(len(input_seq) ,1, -1), self.hidden_cell)\n",
        "        predictions = self.linear(lstm_out.view(len(input_seq), -1))\n",
        "        return predictions[-1] # here we are returning the prediction values of the model"
      ]
    },
    {
      "cell_type": "code",
      "execution_count": null,
      "metadata": {
        "id": "yFrlQy6QNCO1"
      },
      "outputs": [],
      "source": [
        "model = LSTM() # here we are giving our model name as model\n",
        "my_prediction_loss_definition = nn.MSELoss() # here we are defining the loss function for the model\n",
        "my_model_opti = torch.optim.Adam(model.parameters(), lr=0.001) # here we are defining the optimizerr for the neural network and we are using the Adam optimizer."
      ]
    },
    {
      "cell_type": "code",
      "execution_count": null,
      "metadata": {
        "colab": {
          "base_uri": "https://localhost:8080/"
        },
        "id": "lWFhKMHPNaeK",
        "outputId": "2b757a82-618d-4d20-a4c6-fec284997659"
      },
      "outputs": [
        {
          "output_type": "execute_result",
          "data": {
            "text/plain": [
              "LSTM(\n",
              "  (lstm): LSTM(7, 100)\n",
              "  (linear): Linear(in_features=100, out_features=1, bias=True)\n",
              ")"
            ]
          },
          "metadata": {},
          "execution_count": 27
        }
      ],
      "source": [
        "model # here we are describing the model for the varification purposes."
      ]
    },
    {
      "cell_type": "code",
      "execution_count": null,
      "metadata": {
        "colab": {
          "base_uri": "https://localhost:8080/"
        },
        "id": "4buHOsRLNjP2",
        "outputId": "2866115b-d8f9-4a1c-dba9-752247612d37"
      },
      "outputs": [
        {
          "output_type": "stream",
          "name": "stderr",
          "text": [
            "/usr/local/lib/python3.9/dist-packages/torch/nn/modules/loss.py:536: UserWarning: Using a target size (torch.Size([27670])) that is different to the input size (torch.Size([1])). This will likely lead to incorrect results due to broadcasting. Please ensure they have the same size.\n",
            "  return F.mse_loss(input, target, reduction=self.reduction)\n"
          ]
        },
        {
          "output_type": "stream",
          "name": "stdout",
          "text": [
            "epoch:  14 loss: 0.8614432812\n"
          ]
        }
      ],
      "source": [
        "num_of_epoc = 15 # here we are defining the number of epoch for which my model will be trained out\n",
        "\n",
        "for i in range(num_of_epoc):   # we are cresting a for loop for the epoch training\n",
        "    for seq, labels in my_training_sequence_is: # we are taking each datapoint for the further processing\n",
        "        my_model_opti.zero_grad()        # here we are taking the optimization function\n",
        "        model.hidden_cell = (torch.zeros(1, 1, model.hidden_layer_size),  # here we are calling the hidden cell of the LSTM model\n",
        "                        torch.zeros(1, 1, model.hidden_layer_size))\n",
        "\n",
        "        model_prediction_values = model(seq)  # here we are obtaining the values predicted by my model\n",
        "\n",
        "        alone_loss_val = my_prediction_loss_definition(model_prediction_values, y_whole_data_set_train)  # here we are calculating the loss function for my model predction\n",
        "        alone_loss_val.backward()  #here we are giving back this loss to the further processing\n",
        "        my_model_opti.step()        # here we are again introducing our new optimized values\n",
        "\n",
        "    if i%1 == 1:\n",
        "        print(f'epoch: {i:3} loss: {alone_loss_val.item():10.8f}')\n",
        "\n",
        "print(f'epoch: {i:3} loss: {alone_loss_val.item():10.10f}')"
      ]
    },
    {
      "cell_type": "code",
      "execution_count": null,
      "metadata": {
        "id": "4xnSsyRB984_"
      },
      "outputs": [],
      "source": [
        "# here we are transforming my dtaset to the tensor\n",
        "X_whole_data_set_test = torch.FloatTensor(X_whole_data_set_test)"
      ]
    },
    {
      "cell_type": "code",
      "execution_count": null,
      "metadata": {
        "id": "-EvgIzXI-ELD"
      },
      "outputs": [],
      "source": [
        "# here we are transforming my dtaset to the tensor\n",
        "y_whole_data_set_test = torch.FloatTensor(y_whole_data_set_test)"
      ]
    },
    {
      "cell_type": "code",
      "execution_count": null,
      "metadata": {
        "id": "xRl9R4CvjFUa"
      },
      "outputs": [],
      "source": [
        "# here we are transforming my dtaset to the tensor\n",
        "test_inout_seq = making_seq_of_my_dataset(X_whole_data_set_test, How_much_seq_want)"
      ]
    },
    {
      "cell_type": "code",
      "execution_count": null,
      "metadata": {
        "colab": {
          "base_uri": "https://localhost:8080/"
        },
        "id": "ISb36iXFjpUb",
        "outputId": "7aee0714-338f-46d6-d7e9-74be8ec2afbb"
      },
      "outputs": [
        {
          "output_type": "execute_result",
          "data": {
            "text/plain": [
              "[(tensor([[[1.2697e-01, 2.4864e+02, 1.5100e+00, 0.0000e+00, 6.8333e-01,\n",
              "            7.0000e-01, 4.7773e-01]]]),\n",
              "  tensor([[[1.1777e-01, 2.4785e+02, 1.9900e+00, 0.0000e+00, 6.8333e-01,\n",
              "            6.8333e-01, 6.5527e-01]]])),\n",
              " (tensor([[[1.1777e-01, 2.4785e+02, 1.9900e+00, 0.0000e+00, 6.8333e-01,\n",
              "            6.8333e-01, 6.5527e-01]]]),\n",
              "  tensor([[[5.9500e-02, 2.4566e+02, 2.6267e+00, 0.0000e+00, 0.0000e+00,\n",
              "            6.8333e-01, 1.4364e+00]]])),\n",
              " (tensor([[[5.9500e-02, 2.4566e+02, 2.6267e+00, 0.0000e+00, 0.0000e+00,\n",
              "            6.8333e-01, 1.4364e+00]]]),\n",
              "  tensor([[[1.6590e-01, 2.4094e+02, 6.0667e+00, 0.0000e+00, 0.0000e+00,\n",
              "            6.5000e-01, 2.3199e+00]]])),\n",
              " (tensor([[[1.6590e-01, 2.4094e+02, 6.0667e+00, 0.0000e+00, 0.0000e+00,\n",
              "            6.5000e-01, 2.3199e+00]]]),\n",
              "  tensor([[[1.4053e-01, 2.4128e+02, 9.6067e+00, 0.0000e+00, 0.0000e+00,\n",
              "            1.3917e+01, 2.1599e+00]]])),\n",
              " (tensor([[[1.4053e-01, 2.4128e+02, 9.6067e+00, 0.0000e+00, 0.0000e+00,\n",
              "            1.3917e+01, 2.1599e+00]]]),\n",
              "  tensor([[[5.7300e-02, 2.4215e+02, 8.9033e+00, 0.0000e+00, 0.0000e+00,\n",
              "            1.4133e+01, 8.2987e-01]]]))]"
            ]
          },
          "metadata": {},
          "execution_count": 32
        }
      ],
      "source": [
        "# just for the sake of varification we are displaying this\n",
        "test_inout_seq[:5]"
      ]
    },
    {
      "cell_type": "code",
      "execution_count": null,
      "metadata": {
        "id": "nvwxGJOXFt3X"
      },
      "outputs": [],
      "source": [
        "model_pred_for_testing_purposes= [] # defining a tesor for the collection of the testing prediction of the model\n",
        "model_loss_for_testing_purposes=[]  # defining a tesor for the collection of the testing loss of prediction of the model\n",
        "Tensor_for_collecting_tes_prediction = torch.tensor([])  # defining a tesor for the concatination of the testing prediction of the model"
      ]
    },
    {
      "cell_type": "code",
      "execution_count": null,
      "metadata": {
        "colab": {
          "base_uri": "https://localhost:8080/"
        },
        "id": "DPz5HnPI6-T1",
        "outputId": "f3590222-2d8f-40ac-f0b7-6c14f5024cd0"
      },
      "outputs": [
        {
          "output_type": "stream",
          "name": "stderr",
          "text": [
            "/usr/local/lib/python3.9/dist-packages/torch/nn/modules/loss.py:536: UserWarning: Using a target size (torch.Size([6918])) that is different to the input size (torch.Size([1])). This will likely lead to incorrect results due to broadcasting. Please ensure they have the same size.\n",
            "  return F.mse_loss(input, target, reduction=self.reduction)\n"
          ]
        },
        {
          "output_type": "stream",
          "name": "stdout",
          "text": [
            " loss: 0.5917060375\n"
          ]
        }
      ],
      "source": [
        "for seq, labels in test_inout_seq: # defining the for loop for the testing dataset prediction\n",
        "    with torch.no_grad():\n",
        "     model_prediction_values1 = model(seq) # prediction of the values by applying the model\n",
        "\n",
        "     alone_loss_val1 = my_prediction_loss_definition(model_prediction_values1, y_whole_data_set_test) # calculating the of single data points\n",
        "\n",
        "     model_pred_for_testing_purposes.append(model_prediction_values1.detach().numpy()) # now appending all data\n",
        "     Tensor_for_collecting_tes_prediction = torch.cat((Tensor_for_collecting_tes_prediction,model_prediction_values1)) # here we are collecting the tesors and concatinate them\n",
        "     model_loss_for_testing_purposes.append(alone_loss_val1) # here we are fing the testing lopss\n",
        "print(f' loss: {alone_loss_val1.item():10.10f}')"
      ]
    },
    {
      "cell_type": "code",
      "execution_count": null,
      "metadata": {
        "colab": {
          "base_uri": "https://localhost:8080/"
        },
        "id": "QllUGu-kKwTy",
        "outputId": "ed20a3fd-07d6-4187-992f-48c2eb85bc2c"
      },
      "outputs": [
        {
          "output_type": "execute_result",
          "data": {
            "text/plain": [
              "tensor([0.3571, 0.4777, 0.6553, 1.4364, 2.3199])"
            ]
          },
          "metadata": {},
          "execution_count": 35
        }
      ],
      "source": [
        "y_whole_data_set_test[:5] # for the sake of the varification we are printing these top 5 values"
      ]
    },
    {
      "cell_type": "code",
      "execution_count": null,
      "metadata": {
        "colab": {
          "base_uri": "https://localhost:8080/"
        },
        "id": "XMNBlgBkLD4b",
        "outputId": "d31f0fde-9430-4bf3-f9eb-e289775c9a1e"
      },
      "outputs": [
        {
          "output_type": "execute_result",
          "data": {
            "text/plain": [
              "tensor([1.2437, 1.2658, 1.2696, 1.2700, 1.2639])"
            ]
          },
          "metadata": {},
          "execution_count": 36
        }
      ],
      "source": [
        "Tensor_for_collecting_tes_prediction[:5] # for the sake of the varification we are printing these top 5 values"
      ]
    },
    {
      "cell_type": "code",
      "execution_count": null,
      "metadata": {
        "id": "2KDxzPpoRm7z"
      },
      "outputs": [],
      "source": [
        "import matplotlib.pyplot as plt # for plotting the graph for the fallowing values we importing the libraries\n",
        "%matplotlib inline"
      ]
    },
    {
      "cell_type": "code",
      "execution_count": null,
      "metadata": {
        "colab": {
          "base_uri": "https://localhost:8080/",
          "height": 472
        },
        "id": "cm4Nh4dYR_eo",
        "outputId": "7b6ea40e-cc3d-44ae-b398-9e612e24e313"
      },
      "outputs": [
        {
          "output_type": "display_data",
          "data": {
            "text/plain": [
              "<Figure size 640x480 with 1 Axes>"
            ],
            "image/png": "[encoded data removed]"
          },
          "metadata": {}
        }
      ],
      "source": [
        "plt.title('actual vs predicted reslts for top 20 dataset') # giving the title to the plot we are going to make\n",
        "plt.xlabel('Days')  # the x axis will be nammed as \"Days\"\n",
        "plt.grid(True)\n",
        "plt.autoscale(axis='x', tight=True)\n",
        "plt.plot(y_whole_data_set_test[:25]) # Plotting the top 25 values of the actual dataset\n",
        "plt.plot(Tensor_for_collecting_tes_prediction[:25]) # Plotting the top 25 values of the predicted dataset\n",
        "plt.show()"
      ]
    },
    {
      "cell_type": "markdown",
      "source": [
        "# *** (i) Split the dataset into train (70%) and test(30%) and do the basic preprocessing. ***"
      ],
      "metadata": {
        "id": "SKuxs4WVDD9z"
      }
    },
    {
      "cell_type": "code",
      "execution_count": null,
      "metadata": {
        "id": "fykCFGp7Dykk"
      },
      "outputs": [],
      "source": [
        "# Since our data set shape is (2075259, 7), so the data entries are total 2075259 , hence we want to split the data set  into the training (80%) and validation and testing (20%) set\n",
        "# so we are using the splitting function from the respective libraries\n",
        "# traing part after 70% will get the total of 1452681\n",
        "# and the rest will be about total\n",
        "\n",
        "whole_data_set_numeric = whole_data_set.values\n",
        "numberof_whole_data_set_train = 24212\n",
        "\n",
        "# splitting the data set according to the given conditions in the question\n",
        "# this fallowing line is for the training dataset\n",
        "whole_data_set_train = whole_data_set_numeric[:numberof_whole_data_set_train, :]\n",
        "# this fallowing line is for the testing dataset\n",
        "whole_data_set_test = whole_data_set_numeric[numberof_whole_data_set_train:, :]\n",
        "\n",
        "\n",
        "# now extracting the features and the target values for the supervised learning  technique for the trainig dataset\n",
        "X_whole_data_set_train, y_whole_data_set_train = whole_data_set_train[:,1:], whole_data_set_train[:,0]\n",
        "# now extracting the features and the target values for the supervised learning  technique for the testing dataset\n",
        "X_whole_data_set_test, y_whole_data_set_test = whole_data_set_test[:,1:],whole_data_set_test[:,0]\n",
        "\n",
        "X_whole_data_set_train = X_whole_data_set_train.reshape((X_whole_data_set_train.shape[0], 1, X_whole_data_set_train.shape[1]))\n",
        "X_whole_data_set_test = X_whole_data_set_test.reshape((X_whole_data_set_test.shape[0], 1, X_whole_data_set_test.shape[1]))"
      ]
    },
    {
      "cell_type": "code",
      "execution_count": null,
      "metadata": {
        "colab": {
          "base_uri": "https://localhost:8080/"
        },
        "outputId": "53eaa420-896c-488b-f80b-0485cfac9525",
        "id": "qlIleGTLEokX"
      },
      "outputs": [
        {
          "output_type": "stream",
          "name": "stdout",
          "text": [
            "(24212, 1, 7) (24212,) (10376, 1, 7) (10376,)\n"
          ]
        }
      ],
      "source": [
        "# just for the varification that the splitt is done properly , we are pring the shape of the above work\n",
        "print(X_whole_data_set_train.shape,y_whole_data_set_train.shape,X_whole_data_set_test.shape,y_whole_data_set_test.shape)\n"
      ]
    },
    {
      "cell_type": "code",
      "execution_count": null,
      "metadata": {
        "id": "utD0Yon8FQ59"
      },
      "outputs": [],
      "source": [
        "# now we making our whole training feature dataset into the tensor for the further processing\n",
        "X_whole_data_set_train = torch.FloatTensor(X_whole_data_set_train)"
      ]
    },
    {
      "cell_type": "code",
      "execution_count": null,
      "metadata": {
        "id": "NuKf1-PTHwnp"
      },
      "outputs": [],
      "source": [
        "# here we are transforming my dtaset to the tensor\n",
        "y_whole_data_set_train = torch.FloatTensor(y_whole_data_set_train)"
      ]
    },
    {
      "cell_type": "code",
      "execution_count": null,
      "metadata": {
        "id": "rHfpH0rEFhx9"
      },
      "outputs": [],
      "source": [
        "# converteing my dataset into the sequences\n",
        "my_training_sequence_is = making_seq_of_my_dataset(X_whole_data_set_train, How_much_seq_want)"
      ]
    },
    {
      "cell_type": "code",
      "execution_count": null,
      "metadata": {
        "colab": {
          "base_uri": "https://localhost:8080/"
        },
        "outputId": "10c77ff8-4e6c-4e68-fecf-ffa32e7a913c",
        "id": "Od-NSzA4FxVa"
      },
      "outputs": [
        {
          "output_type": "stream",
          "name": "stderr",
          "text": [
            "/usr/local/lib/python3.9/dist-packages/torch/nn/modules/loss.py:536: UserWarning: Using a target size (torch.Size([24212])) that is different to the input size (torch.Size([1])). This will likely lead to incorrect results due to broadcasting. Please ensure they have the same size.\n",
            "  return F.mse_loss(input, target, reduction=self.reduction)\n"
          ]
        },
        {
          "output_type": "stream",
          "name": "stdout",
          "text": [
            "epoch:  14 loss: 0.8576800823\n"
          ]
        }
      ],
      "source": [
        "num_of_epoc = 15 # here we are defining the number of epoch for which my model will be trained out\n",
        "\n",
        "for i in range(num_of_epoc):   # we are cresting a for loop for the epoch training\n",
        "    for seq, labels in my_training_sequence_is: # we are taking each datapoint for the further processing\n",
        "        my_model_opti.zero_grad()        # here we are taking the optimization function\n",
        "        model.hidden_cell = (torch.zeros(1, 1, model.hidden_layer_size),  # here we are calling the hidden cell of the LSTM model\n",
        "                        torch.zeros(1, 1, model.hidden_layer_size))\n",
        "\n",
        "        model_prediction_values = model(seq)  # here we are obtaining the values predicted by my model\n",
        "\n",
        "        alone_loss_val1 = my_prediction_loss_definition(model_prediction_values, y_whole_data_set_train)  # here we are calculating the loss function for my model predction\n",
        "        alone_loss_val1.backward()  #here we are giving back this loss to the further processing\n",
        "        my_model_opti.step()        # here we are again introducing our new optimized values\n",
        "\n",
        "    if i%1 == 1:\n",
        "        print(f'epoch: {i:3} loss: {alone_loss_val1.item():10.8f}')\n",
        "\n",
        "print(f'epoch: {i:3} loss: {alone_loss_val1.item():10.10f}')"
      ]
    },
    {
      "cell_type": "code",
      "execution_count": null,
      "metadata": {
        "id": "erNMZsUQF-Dd"
      },
      "outputs": [],
      "source": [
        "# here we are transforming my dtaset to the tensor\n",
        "X_whole_data_set_test = torch.FloatTensor(X_whole_data_set_test)"
      ]
    },
    {
      "cell_type": "code",
      "execution_count": null,
      "metadata": {
        "id": "2MHcj1mNGC6f"
      },
      "outputs": [],
      "source": [
        "# here we are transforming my dtaset to the tensor\n",
        "y_whole_data_set_test = torch.FloatTensor(y_whole_data_set_test)"
      ]
    },
    {
      "cell_type": "code",
      "execution_count": null,
      "metadata": {
        "id": "7H_BZ68oGH9T"
      },
      "outputs": [],
      "source": [
        "# here we are transforming my dtaset to the tensor\n",
        "test_inout_seq = making_seq_of_my_dataset(X_whole_data_set_test, How_much_seq_want)"
      ]
    },
    {
      "cell_type": "code",
      "execution_count": null,
      "metadata": {
        "id": "osL9qHzoGVgB"
      },
      "outputs": [],
      "source": [
        "model_pred_for_testing_purposes= [] # defining a tesor for the collection of the testing prediction of the model\n",
        "model_loss_for_testing_purposes=[]  # defining a tesor for the collection of the testing loss of prediction of the model\n",
        "Tensor_for_collecting_tes_prediction = torch.tensor([])  # defining a tesor for the concatination of the testing prediction of the model"
      ]
    },
    {
      "cell_type": "code",
      "execution_count": null,
      "metadata": {
        "colab": {
          "base_uri": "https://localhost:8080/"
        },
        "id": "EliySm1pGcrU",
        "outputId": "0686932f-1b63-4656-8ae5-c49306000727"
      },
      "outputs": [
        {
          "output_type": "stream",
          "name": "stderr",
          "text": [
            "/usr/local/lib/python3.9/dist-packages/torch/nn/modules/loss.py:536: UserWarning: Using a target size (torch.Size([10376])) that is different to the input size (torch.Size([1])). This will likely lead to incorrect results due to broadcasting. Please ensure they have the same size.\n",
            "  return F.mse_loss(input, target, reduction=self.reduction)\n"
          ]
        },
        {
          "output_type": "stream",
          "name": "stdout",
          "text": [
            " loss: 0.6690000892\n"
          ]
        }
      ],
      "source": [
        "for seq, labels in test_inout_seq: # defining the for loop for the testing dataset prediction\n",
        "    with torch.no_grad():\n",
        "     model_prediction_values1 = model(seq) # prediction of the values by applying the model\n",
        "\n",
        "     alone_loss_val1 = my_prediction_loss_definition(model_prediction_values1, y_whole_data_set_test) # calculating the of single data points\n",
        "\n",
        "     model_pred_for_testing_purposes.append(model_prediction_values1.detach().numpy()) # now appending all data\n",
        "     Tensor_for_collecting_tes_prediction = torch.cat((Tensor_for_collecting_tes_prediction,model_prediction_values1)) # here we are collecting the tesors and concatinate them\n",
        "     model_loss_for_testing_purposes.append(alone_loss_val1) # here we are fing the testing lopss\n",
        "print(f' loss: {alone_loss_val1.item():10.10f}')"
      ]
    },
    {
      "cell_type": "code",
      "execution_count": null,
      "metadata": {
        "colab": {
          "base_uri": "https://localhost:8080/",
          "height": 472
        },
        "id": "hE6oeBieGjxH",
        "outputId": "0928134b-9aea-45e7-92c8-bf66b1c6633f"
      },
      "outputs": [
        {
          "output_type": "display_data",
          "data": {
            "text/plain": [
              "<Figure size 640x480 with 1 Axes>"
            ],
            "image/png": "[encoded data removed]"
          },
          "metadata": {}
        }
      ],
      "source": [
        "plt.title('actual vs predicted reslts for top 20 dataset') # giving the title to the plot we are going to make\n",
        "plt.xlabel('Days')  # the x axis will be nammed as \"Days\"\n",
        "plt.grid(True)\n",
        "plt.autoscale(axis='x', tight=True)\n",
        "plt.plot(y_whole_data_set_test[:25]) # Plotting the top 25 values of the actual dataset\n",
        "plt.plot(Tensor_for_collecting_tes_prediction[:25]) # Plotting the top 25 values of the predicted dataset\n",
        "plt.show()"
      ]
    },
    {
      "cell_type": "code",
      "source": [],
      "metadata": {
        "id": "KCOxqywtFQeg"
      },
      "execution_count": null,
      "outputs": []
    }
  ],
  "metadata": {
    "colab": {
      "provenance": [],
      "include_colab_link": true
    },
    "gpuClass": "standard",
    "kernelspec": {
      "display_name": "Python 3",
      "name": "python3"
    },
    "language_info": {
      "name": "python"
    }
  },
  "nbformat": 4,
  "nbformat_minor": 0
}